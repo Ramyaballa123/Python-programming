{
 "cells": [
  {
   "cell_type": "markdown",
   "metadata": {
    "id": "U6Dqu1tNdTnK"
   },
   "source": [
    "## Variables can store data of different types\n",
    "\n",
    "1. Text Type: str  \n",
    "2. Numeric Types: int, float, complex  \n",
    "3. Sequence Types: list, tuple, range  \n",
    "4. Mapping Type: dict    \n",
    "5. Set Types: set, frozenset  \n",
    "6. Boolean Type: bool  "
   ]
  },
  {
   "cell_type": "code",
   "execution_count": null,
   "metadata": {
    "id": "lTjhYo13dTnS"
   },
   "outputs": [],
   "source": []
  },
  {
   "cell_type": "markdown",
   "metadata": {
    "id": "GdyV8hkYdTnT"
   },
   "source": [
    "# Data Types  \n",
    "A data type defines the type of data,The data types in Python are divided in two categories:\n",
    "1. Immutable data types – Values cannot be changed.  \n",
    "2. Mutable data types – Values can be changed  \n",
    "\n",
    "#### Immutable data types in Python are:  \n",
    " \n",
    "1. String  \n",
    "2. Tuple  \n",
    "\n",
    "#### Mutable data types in Python are:  \n",
    "1. List  \n",
    "2. Dictionaries  \n",
    "3. Sets  "
   ]
  },
  {
   "cell_type": "code",
   "execution_count": null,
   "metadata": {
    "id": "jeQE8bhrdTnU"
   },
   "outputs": [],
   "source": []
  },
  {
   "cell_type": "code",
   "execution_count": null,
   "metadata": {
    "id": "MCmzGMWBdTnV"
   },
   "outputs": [],
   "source": []
  },
  {
   "cell_type": "markdown",
   "metadata": {
    "id": "8zu1PpEvdTnW"
   },
   "source": [
    "# Strings"
   ]
  },
  {
   "cell_type": "markdown",
   "metadata": {
    "id": "FGvyUThLdTnW"
   },
   "source": [
    "## Today's Agenda\n",
    "> ### What is Strings?\n",
    "> ### How to use Strings?\n",
    "> ### What are the different ways to create a strings?\n",
    "> ### How to concate multiple strings?\n",
    "> ### What are the methods available in strings\n",
    "    - len()\n",
    "    - count()\n",
    "    - upper()\n",
    "    - lower()\n",
    "    - capitalize()\n",
    "    - title()\n",
    "    - find()\n",
    "    - replace()\n",
    "    - split()\n",
    "    - join()\n",
    "    - strip()\n",
    "    - isdigit()\n",
    "    - islapha()\n"
   ]
  },
  {
   "cell_type": "markdown",
   "metadata": {
    "id": "u1ioMGUwdTnX"
   },
   "source": [
    "## What is String?"
   ]
  },
  {
   "cell_type": "markdown",
   "metadata": {
    "id": "xGcG7a9pdTnX"
   },
   "source": [
    "  \n",
    "- A string is a sequence of characters.\n",
    "- Computers do not deal with characters, they deal with numbers (binary). Even though you may see characters on    your screen, internally it is stored and manipulated as a combination of 0's and 1's.\n",
    "- This conversion of character to a number is called encoding, and the reverse process is decoding. ASCII and Unicode are some of the popular encoding used.\n",
    "\n",
    "## Strings are Arrays\n",
    "Like many other popular programming languages, strings in Python are arrays of bytes representing unicode characters. However, Python does not have a character data type, a single character is simply a string with a length of 1. Square brackets can be used to access elements of the string."
   ]
  },
  {
   "cell_type": "markdown",
   "metadata": {
    "id": "Adk40IdsdTnY"
   },
   "source": [
    "# Ways to create strings"
   ]
  },
  {
   "cell_type": "markdown",
   "metadata": {
    "id": "MzJn06B0dTnY"
   },
   "source": [
    "### single quotes"
   ]
  },
  {
   "cell_type": "code",
   "execution_count": null,
   "metadata": {
    "id": "WIuTCtHPdTnY"
   },
   "outputs": [],
   "source": [
    "name = 'burger is good'"
   ]
  },
  {
   "cell_type": "code",
   "execution_count": null,
   "metadata": {
    "id": "wfV9cJ_KdTna",
    "outputId": "12b2c67a-74aa-4778-eb3b-ade36742c187"
   },
   "outputs": [
    {
     "data": {
      "text/plain": [
       "str"
      ]
     },
     "execution_count": 2,
     "metadata": {},
     "output_type": "execute_result"
    }
   ],
   "source": [
    "type(name)"
   ]
  },
  {
   "cell_type": "markdown",
   "metadata": {
    "id": "LpYM6CuUdTnb"
   },
   "source": [
    "### double quotes"
   ]
  },
  {
   "cell_type": "code",
   "execution_count": null,
   "metadata": {
    "id": "5dhruml4dTnb",
    "outputId": "111a1aa8-32d1-4e3e-fe12-d74221f43178"
   },
   "outputs": [
    {
     "data": {
      "text/plain": [
       "str"
      ]
     },
     "execution_count": 3,
     "metadata": {},
     "output_type": "execute_result"
    }
   ],
   "source": [
    "rev = \"burger is good\"\n",
    "type(rev)"
   ]
  },
  {
   "cell_type": "markdown",
   "metadata": {
    "id": "eSuLZGt6dTnc"
   },
   "source": [
    "### Triple quotes"
   ]
  },
  {
   "cell_type": "code",
   "execution_count": null,
   "metadata": {
    "id": "HvOCIxpSdTnc"
   },
   "outputs": [],
   "source": [
    "rev = \"\"\" Bawarchi biriyani the best ! What they are known for, its been a week am in hydrabad and the best biriyani yet for worth the money and quantity\n",
    "But , all other things have to be rehandled again\n",
    "Hygiene , service ,and better luminous\n",
    "The waiter forced me for a tip even he came without a bill and said me a wrong amount and i corrected him. Dont spoil the savoury of that biriyani to unpalatable\"\"\""
   ]
  },
  {
   "cell_type": "code",
   "execution_count": null,
   "metadata": {
    "id": "qRU-KTN6dTnc",
    "outputId": "7f0676a8-b0cf-4d4e-c9bc-9519861f1374"
   },
   "outputs": [
    {
     "data": {
      "text/plain": [
       "' Bawarchi biriyani the best ! What they are known for, its been a week am in hydrabad and the best biriyani yet for worth the money and quantity\\nBut , all other things have to be rehandled again\\nHygiene , service ,and better luminous\\nThe waiter forced me for a tip even he came without a bill and said me a wrong amount and i corrected him. Dont spoil the savoury of that biriyani to unpalatable'"
      ]
     },
     "execution_count": 6,
     "metadata": {},
     "output_type": "execute_result"
    }
   ],
   "source": [
    "rev"
   ]
  },
  {
   "cell_type": "code",
   "execution_count": null,
   "metadata": {
    "id": "4XpxUQq0dTnd"
   },
   "outputs": [],
   "source": [
    "rev1 = \" Burger is tasty and it's great \""
   ]
  },
  {
   "cell_type": "code",
   "execution_count": null,
   "metadata": {
    "id": "fqeEHYZGdTnd",
    "outputId": "5a1f194b-88b2-4c90-f1c6-5692a138960c"
   },
   "outputs": [
    {
     "name": "stdout",
     "output_type": "stream",
     "text": [
      "<class 'str'>\n"
     ]
    }
   ],
   "source": [
    "print(type(rev1))"
   ]
  },
  {
   "cell_type": "markdown",
   "metadata": {
    "id": "Q2lXxRHxdTne"
   },
   "source": [
    "**NOTE: String, List, Array indexing in Python always begins from 0**\n",
    "\n",
    "## String Slicing / String Indexing\n",
    "\n",
    "You can return a range of characters by using the slice syntax. Specify the start index and the end index, separated by a colon, to return a part of the string.\n",
    "\n",
    "We will learn advanced slicing when we study lists. Most of the indexing and slicing operations will be similar. Remember, python lists are different than arrays."
   ]
  },
  {
   "cell_type": "markdown",
   "metadata": {
    "id": "1oo6VcO0dTne"
   },
   "source": [
    "![image.png](attachment:image.png)"
   ]
  },
  {
   "cell_type": "markdown",
   "metadata": {
    "id": "Tsw7ILDbdTne"
   },
   "source": [
    "- Indexing position of the each char in a string\n",
    "\n",
    "- slicing is piece of the value of a string\n",
    "\n",
    "- denoted by `[ ] `\n",
    "\n",
    "- We can access individual characters using indexing and a range of characters using slicing.\n",
    "\n",
    "- Index starts from `0.` \n",
    "\n",
    "- Trying to access a character out of index range will raise an IndexError. \n",
    "\n",
    "- The index must be an integer. We can't use float or other types, this will result into TypeError.\n",
    "\n",
    "- Python allows negative indexing for its sequences."
   ]
  },
  {
   "cell_type": "code",
   "execution_count": null,
   "metadata": {
    "id": "k_k85LjXdTne"
   },
   "outputs": [],
   "source": [
    "text = 'Python program'"
   ]
  },
  {
   "cell_type": "code",
   "execution_count": null,
   "metadata": {
    "id": "4HErk5i_dTnf",
    "outputId": "3b5f65f4-075c-44a9-ea9f-2373ce14f67d"
   },
   "outputs": [
    {
     "data": {
      "text/plain": [
       "'P'"
      ]
     },
     "execution_count": 14,
     "metadata": {},
     "output_type": "execute_result"
    }
   ],
   "source": [
    "text[0]"
   ]
  },
  {
   "cell_type": "code",
   "execution_count": null,
   "metadata": {
    "id": "SIoodVcwdTnf",
    "outputId": "2a178eeb-eedd-49b3-c1d1-dce695a4fc87"
   },
   "outputs": [
    {
     "data": {
      "text/plain": [
       "'P'"
      ]
     },
     "execution_count": 15,
     "metadata": {},
     "output_type": "execute_result"
    }
   ],
   "source": [
    "text[-14]"
   ]
  },
  {
   "cell_type": "code",
   "execution_count": null,
   "metadata": {
    "id": "Avi_XaaqdTnf",
    "outputId": "c8dd1bb9-6f5f-4073-c375-d80414f9aca0"
   },
   "outputs": [
    {
     "data": {
      "text/plain": [
       "14"
      ]
     },
     "execution_count": 16,
     "metadata": {},
     "output_type": "execute_result"
    }
   ],
   "source": [
    "len(text)"
   ]
  },
  {
   "cell_type": "code",
   "execution_count": null,
   "metadata": {
    "id": "Oy8F6z5pdTng",
    "outputId": "7b7ac063-65a1-402a-8fd1-7b5b1d3508aa"
   },
   "outputs": [
    {
     "data": {
      "text/plain": [
       "'m'"
      ]
     },
     "execution_count": 18,
     "metadata": {},
     "output_type": "execute_result"
    }
   ],
   "source": [
    "text[13]"
   ]
  },
  {
   "cell_type": "code",
   "execution_count": null,
   "metadata": {
    "id": "jwpt3IiDdTng",
    "outputId": "aeb66bfa-6459-44d0-b3ad-4b7c38b32169"
   },
   "outputs": [
    {
     "ename": "IndexError",
     "evalue": "string index out of range",
     "output_type": "error",
     "traceback": [
      "\u001b[1;31m---------------------------------------------------------------------------\u001b[0m",
      "\u001b[1;31mIndexError\u001b[0m                                Traceback (most recent call last)",
      "\u001b[1;32m~\\AppData\\Local\\Temp/ipykernel_6404/1689111212.py\u001b[0m in \u001b[0;36m<module>\u001b[1;34m\u001b[0m\n\u001b[1;32m----> 1\u001b[1;33m \u001b[0mtext\u001b[0m\u001b[1;33m[\u001b[0m\u001b[1;36m14\u001b[0m\u001b[1;33m]\u001b[0m\u001b[1;33m\u001b[0m\u001b[1;33m\u001b[0m\u001b[0m\n\u001b[0m",
      "\u001b[1;31mIndexError\u001b[0m: string index out of range"
     ]
    }
   ],
   "source": [
    "text[14]"
   ]
  },
  {
   "cell_type": "code",
   "execution_count": null,
   "metadata": {
    "id": "ullt-ahSdTng",
    "outputId": "74dd8446-cef5-4d4d-973c-225c14101480"
   },
   "outputs": [
    {
     "data": {
      "text/plain": [
       "'Python program'"
      ]
     },
     "execution_count": 20,
     "metadata": {},
     "output_type": "execute_result"
    }
   ],
   "source": [
    "text"
   ]
  },
  {
   "cell_type": "code",
   "execution_count": null,
   "metadata": {
    "id": "WRPBSNZDdTnh"
   },
   "outputs": [],
   "source": [
    "text[ start : end]"
   ]
  },
  {
   "cell_type": "code",
   "execution_count": null,
   "metadata": {
    "id": "9zzGC-LkdTnh",
    "outputId": "bde02f59-f7c0-4fe8-923b-2e7aae30ffdc"
   },
   "outputs": [
    {
     "data": {
      "text/plain": [
       "'Pytho'"
      ]
     },
     "execution_count": 21,
     "metadata": {},
     "output_type": "execute_result"
    }
   ],
   "source": [
    "text[0 : 5]"
   ]
  },
  {
   "cell_type": "code",
   "execution_count": null,
   "metadata": {
    "id": "w1wurIDJdTnh",
    "outputId": "0f715019-e072-48c4-c2ff-f711770b86e2"
   },
   "outputs": [
    {
     "data": {
      "text/plain": [
       "'Python'"
      ]
     },
     "execution_count": 22,
     "metadata": {},
     "output_type": "execute_result"
    }
   ],
   "source": [
    "text[0:6]"
   ]
  },
  {
   "cell_type": "code",
   "execution_count": null,
   "metadata": {
    "id": "t3PPTnmCdTnh",
    "outputId": "efcbf7b7-41b3-47ef-9cde-80228e21d099"
   },
   "outputs": [
    {
     "data": {
      "text/plain": [
       "'Python'"
      ]
     },
     "execution_count": 30,
     "metadata": {},
     "output_type": "execute_result"
    }
   ],
   "source": [
    "text[:6]"
   ]
  },
  {
   "cell_type": "code",
   "execution_count": null,
   "metadata": {
    "id": "RfmTGo84dTnh",
    "outputId": "0a33c99f-94a4-4384-b48c-f15e1f7dfa0d"
   },
   "outputs": [
    {
     "data": {
      "text/plain": [
       "'Python program'"
      ]
     },
     "execution_count": 23,
     "metadata": {},
     "output_type": "execute_result"
    }
   ],
   "source": [
    "text"
   ]
  },
  {
   "cell_type": "code",
   "execution_count": null,
   "metadata": {
    "id": "fM77-90GdTni",
    "outputId": "d4ea58e8-d7a8-410c-db9d-2807b862caee"
   },
   "outputs": [
    {
     "data": {
      "text/plain": [
       "'program'"
      ]
     },
     "execution_count": 28,
     "metadata": {},
     "output_type": "execute_result"
    }
   ],
   "source": [
    "text[7:14]"
   ]
  },
  {
   "cell_type": "code",
   "execution_count": null,
   "metadata": {
    "id": "exV_dhN6dTni",
    "outputId": "ce9e1b37-dcaf-41d8-c241-c4793fee6035"
   },
   "outputs": [
    {
     "data": {
      "text/plain": [
       "'program'"
      ]
     },
     "execution_count": 29,
     "metadata": {},
     "output_type": "execute_result"
    }
   ],
   "source": [
    "text[7:]"
   ]
  },
  {
   "cell_type": "code",
   "execution_count": null,
   "metadata": {
    "id": "KLXElqfjdTni",
    "outputId": "1d5b052b-490a-4748-f9e0-f9f72bccc372"
   },
   "outputs": [
    {
     "data": {
      "text/plain": [
       "'Python program'"
      ]
     },
     "execution_count": 31,
     "metadata": {},
     "output_type": "execute_result"
    }
   ],
   "source": [
    "text[:]"
   ]
  },
  {
   "cell_type": "code",
   "execution_count": null,
   "metadata": {
    "id": "1hXfP6g_dTni"
   },
   "outputs": [],
   "source": []
  },
  {
   "cell_type": "markdown",
   "metadata": {
    "id": "UhDJcbwEdTnt"
   },
   "source": [
    "- [`` : `` ]  # Syntax for slicing\n",
    "\n",
    "\n",
    " - [   start position : stop position ]  stop is ( Exclusive )\n",
    " \n",
    " **Note: if stop is \"nth\" position then it gives \"n-1\" position value**\n"
   ]
  },
  {
   "cell_type": "code",
   "execution_count": null,
   "metadata": {
    "id": "9lmGP14MdTnu"
   },
   "outputs": [],
   "source": []
  },
  {
   "cell_type": "markdown",
   "metadata": {
    "id": "7h4Nf6rTdTnu"
   },
   "source": [
    "Indexing    \n",
    "Slicing   \n",
    "Accessing   "
   ]
  },
  {
   "cell_type": "code",
   "execution_count": null,
   "metadata": {
    "id": "I6FAeiLYdTnu"
   },
   "outputs": [],
   "source": []
  },
  {
   "cell_type": "markdown",
   "metadata": {
    "id": "1lJTXT3jdTnu"
   },
   "source": [
    "The syntax for slicing is `var[start:stop:step]`\n",
    "- start: the beginning index of the group of elements we want to access\n",
    "- stop: the ending index of the group of elements we want to access\n",
    "- step: how many elements to skip, when accessing a group of elements"
   ]
  },
  {
   "cell_type": "code",
   "execution_count": null,
   "metadata": {
    "id": "ewZ3q4zadTnu",
    "outputId": "d79bb9e2-31b5-4cc0-9953-25c9f94bd8ac"
   },
   "outputs": [
    {
     "data": {
      "text/plain": [
       "'Python program'"
      ]
     },
     "execution_count": 32,
     "metadata": {},
     "output_type": "execute_result"
    }
   ],
   "source": [
    "text"
   ]
  },
  {
   "cell_type": "code",
   "execution_count": null,
   "metadata": {
    "id": "HwPXXK7hdTnv",
    "outputId": "989c9327-a2de-4e0d-addd-9c0a887f8812"
   },
   "outputs": [
    {
     "data": {
      "text/plain": [
       "'Pto'"
      ]
     },
     "execution_count": 34,
     "metadata": {},
     "output_type": "execute_result"
    }
   ],
   "source": [
    "text[0:6:2]"
   ]
  },
  {
   "cell_type": "code",
   "execution_count": null,
   "metadata": {
    "id": "evOFkmHidTnv"
   },
   "outputs": [],
   "source": [
    "text[:]\n",
    "text[:5]\n",
    "text[5:]"
   ]
  },
  {
   "cell_type": "code",
   "execution_count": null,
   "metadata": {
    "id": "t586Da5CdTnv",
    "outputId": "c4c81986-56d6-4f15-c654-c2e15149a048"
   },
   "outputs": [
    {
     "data": {
      "text/plain": [
       "'Python program'"
      ]
     },
     "execution_count": 35,
     "metadata": {},
     "output_type": "execute_result"
    }
   ],
   "source": [
    "text"
   ]
  },
  {
   "cell_type": "markdown",
   "metadata": {
    "id": "11rLxZUydTnv"
   },
   "source": [
    "#### string reversing"
   ]
  },
  {
   "cell_type": "code",
   "execution_count": null,
   "metadata": {
    "id": "-BYryXhOdTnv",
    "outputId": "6ab0515a-2f12-466a-efc9-98e748dd1a1a"
   },
   "outputs": [
    {
     "data": {
      "text/plain": [
       "'margorp nohtyP'"
      ]
     },
     "execution_count": 36,
     "metadata": {},
     "output_type": "execute_result"
    }
   ],
   "source": [
    "text[::-1]"
   ]
  },
  {
   "cell_type": "code",
   "execution_count": null,
   "metadata": {
    "id": "XiXVnlhfdTnw"
   },
   "outputs": [],
   "source": []
  },
  {
   "cell_type": "markdown",
   "metadata": {
    "id": "Y3BgFHYPdTnw"
   },
   "source": [
    "# Operations on strings\n",
    "\n",
    "### Mathematical operations can be performed on strings "
   ]
  },
  {
   "cell_type": "code",
   "execution_count": null,
   "metadata": {
    "id": "fNoRf_jidTnw",
    "outputId": "76d616a2-c026-445c-dc2c-191ce3b24e27"
   },
   "outputs": [
    {
     "data": {
      "text/plain": [
       "20"
      ]
     },
     "execution_count": 37,
     "metadata": {},
     "output_type": "execute_result"
    }
   ],
   "source": [
    "10 + 10"
   ]
  },
  {
   "cell_type": "code",
   "execution_count": null,
   "metadata": {
    "id": "PPrU25vddTnw",
    "outputId": "53d93731-e843-4cae-eb13-8e8afe1579d5"
   },
   "outputs": [
    {
     "data": {
      "text/plain": [
       "'abcdef'"
      ]
     },
     "execution_count": 38,
     "metadata": {},
     "output_type": "execute_result"
    }
   ],
   "source": [
    "\"abc\" + \"def\""
   ]
  },
  {
   "cell_type": "code",
   "execution_count": null,
   "metadata": {
    "id": "eo5GyrnUdTnw",
    "outputId": "252dca4e-1ca4-459b-db5a-411a81da7122"
   },
   "outputs": [
    {
     "data": {
      "text/plain": [
       "'abcabcabcabcabc'"
      ]
     },
     "execution_count": 39,
     "metadata": {},
     "output_type": "execute_result"
    }
   ],
   "source": [
    "\"abc\"*5"
   ]
  },
  {
   "cell_type": "code",
   "execution_count": null,
   "metadata": {
    "id": "cEmZVIx7dTnx"
   },
   "outputs": [],
   "source": []
  },
  {
   "cell_type": "markdown",
   "metadata": {
    "id": "XwaKsHgldTnx"
   },
   "source": [
    "# Exercise"
   ]
  },
  {
   "cell_type": "markdown",
   "metadata": {
    "id": "uG9gGk--dTnx"
   },
   "source": [
    "##### Create a variable named petname which should have MSD in it"
   ]
  },
  {
   "cell_type": "code",
   "execution_count": null,
   "metadata": {
    "id": "LuFS0PGddTnx"
   },
   "outputs": [],
   "source": [
    "name=\"Mahendra Singh Dhoni\""
   ]
  },
  {
   "cell_type": "code",
   "execution_count": null,
   "metadata": {
    "id": "ppSfCndGdTnx",
    "outputId": "12e3ad92-4317-45b6-ea65-7883d50ee76e"
   },
   "outputs": [
    {
     "data": {
      "text/plain": [
       "'MerSgDn'"
      ]
     },
     "execution_count": 47,
     "metadata": {},
     "output_type": "execute_result"
    }
   ],
   "source": [
    "name[0:20:3]"
   ]
  },
  {
   "cell_type": "code",
   "execution_count": null,
   "metadata": {
    "id": "hz8jYQM7dTny",
    "outputId": "b258336c-9531-4a2a-d7c8-51f0e346cd75"
   },
   "outputs": [
    {
     "data": {
      "text/plain": [
       "'M'"
      ]
     },
     "execution_count": 48,
     "metadata": {},
     "output_type": "execute_result"
    }
   ],
   "source": [
    "name[0]"
   ]
  },
  {
   "cell_type": "code",
   "execution_count": null,
   "metadata": {
    "id": "Dpbr683ldTny",
    "outputId": "b651be47-fd88-46b1-daf7-b47eb7c17cfa"
   },
   "outputs": [
    {
     "data": {
      "text/plain": [
       "'S'"
      ]
     },
     "execution_count": 49,
     "metadata": {},
     "output_type": "execute_result"
    }
   ],
   "source": [
    "name[9]"
   ]
  },
  {
   "cell_type": "code",
   "execution_count": null,
   "metadata": {
    "id": "w_jf8-J1dTny",
    "outputId": "f25a564c-1263-4f9e-921f-1ef59e961f25"
   },
   "outputs": [
    {
     "data": {
      "text/plain": [
       "'D'"
      ]
     },
     "execution_count": 50,
     "metadata": {},
     "output_type": "execute_result"
    }
   ],
   "source": [
    "name[15]"
   ]
  },
  {
   "cell_type": "code",
   "execution_count": null,
   "metadata": {
    "id": "ZN8d1Vb7dTny",
    "outputId": "93684a74-1e05-49b9-93e7-556f4952fc2c"
   },
   "outputs": [
    {
     "data": {
      "text/plain": [
       "'MSD'"
      ]
     },
     "execution_count": 51,
     "metadata": {},
     "output_type": "execute_result"
    }
   ],
   "source": [
    "name[0] + name[9] + name[15]"
   ]
  },
  {
   "cell_type": "code",
   "execution_count": null,
   "metadata": {
    "id": "z347SOaqdTnz",
    "outputId": "31e2b6fc-5302-447f-f618-3510dd95bee7"
   },
   "outputs": [
    {
     "data": {
      "text/plain": [
       "'MSD'"
      ]
     },
     "execution_count": 52,
     "metadata": {},
     "output_type": "execute_result"
    }
   ],
   "source": [
    "name[0:1] + name[9:10] + name[15:16]"
   ]
  },
  {
   "cell_type": "markdown",
   "metadata": {
    "id": "t5oQlCzbdTnz"
   },
   "source": [
    "1) Understand Question  \n",
    "2) break it into small parts  \n",
    "3) combine the parts   "
   ]
  },
  {
   "cell_type": "code",
   "execution_count": null,
   "metadata": {
    "id": "9jBbSnR7dTnz"
   },
   "outputs": [],
   "source": []
  },
  {
   "cell_type": "markdown",
   "metadata": {
    "id": "H4TW4bEsdTnz"
   },
   "source": [
    "# Methods or Built-in Functions\n",
    "\n",
    "A method in python is somewhat similar to a function, except it is associated with object/classes."
   ]
  },
  {
   "cell_type": "code",
   "execution_count": null,
   "metadata": {
    "id": "hQF3MN3adTnz"
   },
   "outputs": [],
   "source": [
    "var = 'burger'"
   ]
  },
  {
   "cell_type": "code",
   "execution_count": null,
   "metadata": {
    "id": "BTqy-d-tdTn0",
    "outputId": "72bce82d-fa69-4261-d468-1599e9421f7a"
   },
   "outputs": [
    {
     "data": {
      "text/plain": [
       "' Bawarchi biriyani the best ! What they are known for, its been a week am in hydrabad and the best biriyani yet for worth the money and quantity\\nBut , all other things have to be rehandled again\\nHygiene , service ,and better luminous\\nThe waiter forced me for a tip even he came without a bill and said me a wrong amount and i corrected him. Dont spoil the savoury of that biriyani to unpalatable'"
      ]
     },
     "execution_count": 54,
     "metadata": {},
     "output_type": "execute_result"
    }
   ],
   "source": [
    "rev"
   ]
  },
  {
   "cell_type": "code",
   "execution_count": null,
   "metadata": {
    "id": "IYQU7ET3dTn0",
    "outputId": "37942787-0305-45c8-a8e5-9dfcdbfb0279"
   },
   "outputs": [
    {
     "data": {
      "text/plain": [
       "395"
      ]
     },
     "execution_count": 55,
     "metadata": {},
     "output_type": "execute_result"
    }
   ],
   "source": [
    "len(rev)"
   ]
  },
  {
   "cell_type": "code",
   "execution_count": null,
   "metadata": {
    "id": "u_Lh6EmPdTn0"
   },
   "outputs": [],
   "source": []
  },
  {
   "cell_type": "markdown",
   "metadata": {
    "id": "YtrjDqQBdTn0"
   },
   "source": [
    "# len()\n",
    "-  to know the number of characters in a string"
   ]
  },
  {
   "cell_type": "code",
   "execution_count": null,
   "metadata": {
    "id": "446KhWDVdTn0"
   },
   "outputs": [],
   "source": []
  },
  {
   "cell_type": "markdown",
   "metadata": {
    "id": "lIut3rA1dTn0"
   },
   "source": [
    "# upper()\n",
    "- to make all the letters in the string capitals\n"
   ]
  },
  {
   "cell_type": "code",
   "execution_count": null,
   "metadata": {
    "id": "cWe1MgCDdTn1"
   },
   "outputs": [],
   "source": [
    "var = 'virat kohli'"
   ]
  },
  {
   "cell_type": "code",
   "execution_count": null,
   "metadata": {
    "id": "5sz16r5OdTn1",
    "outputId": "5e349fe1-1e82-4004-cc1d-12a081fc6483"
   },
   "outputs": [
    {
     "name": "stdout",
     "output_type": "stream",
     "text": [
      "<class 'str'>\n"
     ]
    }
   ],
   "source": [
    "print(type(var))"
   ]
  },
  {
   "cell_type": "code",
   "execution_count": null,
   "metadata": {
    "id": "UMoWwiPsdTn2",
    "outputId": "34dd29db-f0eb-45f0-d136-eda69f0f7ceb"
   },
   "outputs": [
    {
     "data": {
      "text/plain": [
       "'VIRAT KOHLI'"
      ]
     },
     "execution_count": 58,
     "metadata": {},
     "output_type": "execute_result"
    }
   ],
   "source": [
    "var.upper()"
   ]
  },
  {
   "cell_type": "markdown",
   "metadata": {
    "id": "vkbdDszgdTn3"
   },
   "source": [
    "# lower()\n",
    "- to make all the letters in a string to lower case"
   ]
  },
  {
   "cell_type": "code",
   "execution_count": null,
   "metadata": {
    "id": "LYiZODvfdTn3"
   },
   "outputs": [],
   "source": [
    "rev = \"Chicken is TASTY\""
   ]
  },
  {
   "cell_type": "code",
   "execution_count": null,
   "metadata": {
    "id": "v7JkzjgXdTn3",
    "outputId": "85524588-d4a1-4066-f608-fb7be881d837"
   },
   "outputs": [
    {
     "data": {
      "text/plain": [
       "'chicken is tasty'"
      ]
     },
     "execution_count": 63,
     "metadata": {},
     "output_type": "execute_result"
    }
   ],
   "source": [
    "rev.lower()"
   ]
  },
  {
   "cell_type": "code",
   "execution_count": null,
   "metadata": {
    "id": "kdXjJSu4dTn4",
    "outputId": "f02231c2-2f8c-40d8-95f7-da426dfca299"
   },
   "outputs": [
    {
     "data": {
      "text/plain": [
       "'Chicken is TASTY'"
      ]
     },
     "execution_count": 64,
     "metadata": {},
     "output_type": "execute_result"
    }
   ],
   "source": [
    "rev"
   ]
  },
  {
   "cell_type": "code",
   "execution_count": null,
   "metadata": {
    "id": "ehc6-Kd1dTn4",
    "outputId": "5323c239-2a39-41eb-e5aa-0e57358860ca"
   },
   "outputs": [
    {
     "data": {
      "text/plain": [
       "'chicken is tasty'"
      ]
     },
     "execution_count": 65,
     "metadata": {},
     "output_type": "execute_result"
    }
   ],
   "source": [
    "rev1 = rev.lower()\n",
    "rev1"
   ]
  },
  {
   "cell_type": "code",
   "execution_count": null,
   "metadata": {
    "id": "7-dYgYukdTn4"
   },
   "outputs": [],
   "source": [
    "rev1."
   ]
  },
  {
   "cell_type": "markdown",
   "metadata": {
    "id": "bkznt4cedTn4"
   },
   "source": [
    "# capitalize()\n",
    "- to make the starting letter in the entire string capital"
   ]
  },
  {
   "cell_type": "code",
   "execution_count": null,
   "metadata": {
    "id": "MVqIT3CVdTn5",
    "outputId": "8ba5a0e6-b7cf-4232-b6f6-57e994f02cc2"
   },
   "outputs": [
    {
     "data": {
      "text/plain": [
       "'virat kohli'"
      ]
     },
     "execution_count": 68,
     "metadata": {},
     "output_type": "execute_result"
    }
   ],
   "source": [
    "var"
   ]
  },
  {
   "cell_type": "code",
   "execution_count": null,
   "metadata": {
    "id": "_gQQpxSJdTn5",
    "outputId": "caa565eb-246f-4ed0-b4eb-12dfb283ca75"
   },
   "outputs": [
    {
     "data": {
      "text/plain": [
       "'Virat kohli'"
      ]
     },
     "execution_count": 69,
     "metadata": {},
     "output_type": "execute_result"
    }
   ],
   "source": [
    "var.capitalize()"
   ]
  },
  {
   "cell_type": "code",
   "execution_count": null,
   "metadata": {
    "id": "uj6CpiHydTn5",
    "outputId": "a455c318-a0bd-496f-9186-2ff0bf3b839e"
   },
   "outputs": [
    {
     "name": "stdout",
     "output_type": "stream",
     "text": [
      "Help on built-in function capitalize:\n",
      "\n",
      "capitalize() method of builtins.str instance\n",
      "    Return a capitalized version of the string.\n",
      "    \n",
      "    More specifically, make the first character have upper case and the rest lower\n",
      "    case.\n",
      "\n"
     ]
    }
   ],
   "source": [
    "help(var.capitalize)"
   ]
  },
  {
   "cell_type": "code",
   "execution_count": null,
   "metadata": {
    "id": "M_8l_Px6dTn6",
    "outputId": "a5bcbb52-2e05-4baa-df2f-801d538f87c0"
   },
   "outputs": [
    {
     "name": "stdout",
     "output_type": "stream",
     "text": [
      "Help on built-in function title:\n",
      "\n",
      "title() method of builtins.str instance\n",
      "    Return a version of the string where each word is titlecased.\n",
      "    \n",
      "    More specifically, words start with uppercased characters and all remaining\n",
      "    cased characters have lower case.\n",
      "\n"
     ]
    }
   ],
   "source": [
    "help(var.title)"
   ]
  },
  {
   "cell_type": "markdown",
   "metadata": {
    "id": "8_-U-Js1dTn6"
   },
   "source": [
    "#### Note: In python, when we're trying to transform strings, the change obsrved is only valid until that cell and isn't made permanent. If we want the change to be made permanent , reassign the value back into the variable "
   ]
  },
  {
   "cell_type": "markdown",
   "metadata": {
    "id": "QnqfwCAzdTn6"
   },
   "source": [
    "# title()\n",
    "- if we want to make the starting letter of every word in a string to be in caps\n"
   ]
  },
  {
   "cell_type": "code",
   "execution_count": null,
   "metadata": {
    "id": "6v_9WJ5ydTn6",
    "outputId": "eecf7fbc-d5a9-481d-c666-3e2731669614"
   },
   "outputs": [
    {
     "data": {
      "text/plain": [
       "'Virat Kohli'"
      ]
     },
     "execution_count": 70,
     "metadata": {},
     "output_type": "execute_result"
    }
   ],
   "source": [
    "var.title()"
   ]
  },
  {
   "cell_type": "markdown",
   "metadata": {
    "id": "4J-jW8BRdTn7"
   },
   "source": [
    "# count()\n",
    "-  to count the number of occurences of a sub-string in the main string"
   ]
  },
  {
   "cell_type": "code",
   "execution_count": null,
   "metadata": {
    "id": "ol0b8m5KdTn7",
    "outputId": "c7a077fe-3d18-4898-caf2-34f0b8a49cf9"
   },
   "outputs": [
    {
     "data": {
      "text/plain": [
       "'virat kohli'"
      ]
     },
     "execution_count": 73,
     "metadata": {},
     "output_type": "execute_result"
    }
   ],
   "source": [
    "var"
   ]
  },
  {
   "cell_type": "code",
   "execution_count": null,
   "metadata": {
    "id": "4GzDLqYXdTn7",
    "outputId": "88e42edf-39f6-4ef9-b202-d5fb262bc610"
   },
   "outputs": [
    {
     "data": {
      "text/plain": [
       "1"
      ]
     },
     "execution_count": 76,
     "metadata": {},
     "output_type": "execute_result"
    }
   ],
   "source": [
    "var.count(\"a\")"
   ]
  },
  {
   "cell_type": "code",
   "execution_count": null,
   "metadata": {
    "id": "9ug8fbUtdTn7",
    "outputId": "acc6b95d-d29b-4599-8205-a45cb76f361e"
   },
   "outputs": [
    {
     "data": {
      "text/plain": [
       "'chicken is tasty'"
      ]
     },
     "execution_count": 78,
     "metadata": {},
     "output_type": "execute_result"
    }
   ],
   "source": [
    "rev1"
   ]
  },
  {
   "cell_type": "code",
   "execution_count": null,
   "metadata": {
    "id": "jFS8XT7WdTn8",
    "outputId": "1e05ec22-076c-45a0-9b66-a77861b01b32"
   },
   "outputs": [
    {
     "data": {
      "text/plain": [
       "' Bawarchi biriyani the best ! What they are known for, its been a week am in hydrabad and the best biriyani yet for worth the money and quantity\\nBut , all other things have to be rehandled again\\nHygiene , service ,and better luminous\\nThe waiter forced me for a tip even he came without a bill and said me a wrong amount and i corrected him. Dont spoil the savoury of that biriyani to unpalatable'"
      ]
     },
     "execution_count": 80,
     "metadata": {},
     "output_type": "execute_result"
    }
   ],
   "source": [
    "rev"
   ]
  },
  {
   "cell_type": "code",
   "execution_count": null,
   "metadata": {
    "id": "_gS0IRPjdTn8",
    "outputId": "7b025c97-0dbd-46d6-ca35-7ffd120df4b6"
   },
   "outputs": [
    {
     "data": {
      "text/plain": [
       "2"
      ]
     },
     "execution_count": 83,
     "metadata": {},
     "output_type": "execute_result"
    }
   ],
   "source": [
    "rev.count(\"to\")"
   ]
  },
  {
   "cell_type": "code",
   "execution_count": null,
   "metadata": {
    "id": "orgCFI8ddTn8",
    "outputId": "e8ea76e3-4f43-4be3-a1fc-6e4cbaf37857"
   },
   "outputs": [
    {
     "name": "stdout",
     "output_type": "stream",
     "text": [
      "Help on built-in function count:\n",
      "\n",
      "count(...) method of builtins.str instance\n",
      "    S.count(sub[, start[, end]]) -> int\n",
      "    \n",
      "    Return the number of non-overlapping occurrences of substring sub in\n",
      "    string S[start:end].  Optional arguments start and end are\n",
      "    interpreted as in slice notation.\n",
      "\n"
     ]
    }
   ],
   "source": [
    "help(rev.count)"
   ]
  },
  {
   "cell_type": "markdown",
   "metadata": {
    "id": "NskldXkvdTn8"
   },
   "source": [
    "# endswith()\n",
    "- to check whether a string is ending in the given sub-string"
   ]
  },
  {
   "cell_type": "code",
   "execution_count": null,
   "metadata": {
    "id": "6K_jxINWdTn8"
   },
   "outputs": [],
   "source": [
    "var=\"Innomatics Research Labs\""
   ]
  },
  {
   "cell_type": "code",
   "execution_count": null,
   "metadata": {
    "id": "NTIWnyafdTn9",
    "outputId": "2a27dcf9-90c9-45de-b597-a1e52f7bd459"
   },
   "outputs": [
    {
     "data": {
      "text/plain": [
       "True"
      ]
     },
     "execution_count": 87,
     "metadata": {},
     "output_type": "execute_result"
    }
   ],
   "source": [
    "var.endswith(\"s\")"
   ]
  },
  {
   "cell_type": "code",
   "execution_count": null,
   "metadata": {
    "id": "u3CdTkBFdTn9",
    "outputId": "c80269c7-c4d3-414e-edf2-b0d2d5d8048e"
   },
   "outputs": [
    {
     "data": {
      "text/plain": [
       "False"
      ]
     },
     "execution_count": 88,
     "metadata": {},
     "output_type": "execute_result"
    }
   ],
   "source": [
    "var.endswith(\"a\")"
   ]
  },
  {
   "cell_type": "code",
   "execution_count": null,
   "metadata": {
    "id": "WBvPshdhdTn9",
    "outputId": "44fbb985-a2ab-4dd3-f814-7817a20bdda5"
   },
   "outputs": [
    {
     "data": {
      "text/plain": [
       "True"
      ]
     },
     "execution_count": 89,
     "metadata": {},
     "output_type": "execute_result"
    }
   ],
   "source": [
    "var.endswith(\"Labs\")"
   ]
  },
  {
   "cell_type": "markdown",
   "metadata": {
    "id": "TZtgC6jLdTn9"
   },
   "source": [
    "# startswith()\n",
    "- to check whether a string starts with a given sequence"
   ]
  },
  {
   "cell_type": "code",
   "execution_count": null,
   "metadata": {
    "id": "ySzfiGp6dTn9",
    "outputId": "23e429e8-7d3c-40f1-f9ff-8f674a90c895"
   },
   "outputs": [
    {
     "data": {
      "text/plain": [
       "'Innomatics Research Labs'"
      ]
     },
     "execution_count": 90,
     "metadata": {},
     "output_type": "execute_result"
    }
   ],
   "source": [
    "var"
   ]
  },
  {
   "cell_type": "code",
   "execution_count": null,
   "metadata": {
    "id": "WqTtrohedTn-",
    "outputId": "5a1ae283-5e73-4443-997b-4f28e709a6fd"
   },
   "outputs": [
    {
     "data": {
      "text/plain": [
       "True"
      ]
     },
     "execution_count": 91,
     "metadata": {},
     "output_type": "execute_result"
    }
   ],
   "source": [
    "var.startswith(\"I\")"
   ]
  },
  {
   "cell_type": "code",
   "execution_count": null,
   "metadata": {
    "id": "3ypqi9QDdTn-",
    "outputId": "3fddc624-b88f-4491-cdb2-cd69f844083f"
   },
   "outputs": [
    {
     "data": {
      "text/plain": [
       "False"
      ]
     },
     "execution_count": 92,
     "metadata": {},
     "output_type": "execute_result"
    }
   ],
   "source": [
    "var.startswith(\"i\")"
   ]
  },
  {
   "cell_type": "code",
   "execution_count": null,
   "metadata": {
    "id": "0JyvxN13dTn-",
    "outputId": "09959a0b-a19b-4922-a78a-9511922fd2c5"
   },
   "outputs": [
    {
     "data": {
      "text/plain": [
       "' Bawarchi biriyani the best ! What they are known for, its been a week am in hydrabad and the best biriyani yet for worth the money and quantity\\nBut , all other things have to be rehandled again\\nHygiene , service ,and better luminous\\nThe waiter forced me for a tip even he came without a bill and said me a wrong amount and i corrected him. Dont spoil the savoury of that biriyani to unpalatable'"
      ]
     },
     "execution_count": 93,
     "metadata": {},
     "output_type": "execute_result"
    }
   ],
   "source": [
    "rev"
   ]
  },
  {
   "cell_type": "markdown",
   "metadata": {
    "id": "kKemTu3hdTn-"
   },
   "source": [
    "# find()\n",
    "- find() returns the index position of the starting character of the sub-string\n"
   ]
  },
  {
   "cell_type": "code",
   "execution_count": null,
   "metadata": {
    "id": "9vnRmJQIdTn_"
   },
   "outputs": [],
   "source": [
    "var = 'burger is tasty'"
   ]
  },
  {
   "cell_type": "code",
   "execution_count": null,
   "metadata": {
    "id": "jmy7-AyCdTn_",
    "outputId": "600d67ec-718b-47a0-b9c3-fa04694c3b02"
   },
   "outputs": [
    {
     "data": {
      "text/plain": [
       "10"
      ]
     },
     "execution_count": 95,
     "metadata": {},
     "output_type": "execute_result"
    }
   ],
   "source": [
    "var.find(\"tasty\")"
   ]
  },
  {
   "cell_type": "code",
   "execution_count": null,
   "metadata": {
    "id": "XdU09jShdTn_",
    "outputId": "0ae4ceb0-bfdb-4f0a-d145-d790c0995a27"
   },
   "outputs": [
    {
     "data": {
      "text/plain": [
       "10"
      ]
     },
     "execution_count": 96,
     "metadata": {},
     "output_type": "execute_result"
    }
   ],
   "source": [
    "var.find(\"t\")"
   ]
  },
  {
   "cell_type": "code",
   "execution_count": null,
   "metadata": {
    "id": "QQsaRf1bdTn_",
    "outputId": "2d74664a-5275-4862-f6f4-46207d122d3f"
   },
   "outputs": [
    {
     "data": {
      "text/plain": [
       "10"
      ]
     },
     "execution_count": 98,
     "metadata": {},
     "output_type": "execute_result"
    }
   ],
   "source": [
    "var.index(\"tasty\")"
   ]
  },
  {
   "cell_type": "code",
   "execution_count": null,
   "metadata": {
    "id": "1SlAWDMGdToA",
    "outputId": "aabf03b3-bcd9-4149-c5ab-892d49977bb2"
   },
   "outputs": [
    {
     "data": {
      "text/plain": [
       "10"
      ]
     },
     "execution_count": 99,
     "metadata": {},
     "output_type": "execute_result"
    }
   ],
   "source": [
    "var.index(\"t\")"
   ]
  },
  {
   "cell_type": "markdown",
   "metadata": {
    "id": "kvs4lSICdToA"
   },
   "source": [
    "# index()\n",
    "- the index() method works similar to the find() method"
   ]
  },
  {
   "cell_type": "code",
   "execution_count": null,
   "metadata": {
    "id": "9ju3i8QLdToA",
    "outputId": "3fdcd204-48c7-41c7-b8a2-f3cd5593c040"
   },
   "outputs": [
    {
     "data": {
      "text/plain": [
       "10"
      ]
     },
     "execution_count": 100,
     "metadata": {},
     "output_type": "execute_result"
    }
   ],
   "source": [
    "var = 'burger is tasty'\n",
    "var.find(\"tasty\")"
   ]
  },
  {
   "cell_type": "code",
   "execution_count": null,
   "metadata": {
    "id": "-PAYtMOFdToB",
    "outputId": "1bd3b180-2719-4b1d-fa21-251c55130fd4"
   },
   "outputs": [
    {
     "data": {
      "text/plain": [
       "10"
      ]
     },
     "execution_count": 101,
     "metadata": {},
     "output_type": "execute_result"
    }
   ],
   "source": [
    "var.index(\"tasty\")"
   ]
  },
  {
   "cell_type": "markdown",
   "metadata": {
    "id": "1b4MuV9_dToB"
   },
   "source": [
    "#### Create a variable with name food and the food variable should have \"chicken\" present in it . Extract chicken from rev"
   ]
  },
  {
   "cell_type": "code",
   "execution_count": null,
   "metadata": {
    "id": "isFuXbuXdToB"
   },
   "outputs": [],
   "source": [
    "rev = \"This burger of chicken is very tasty\""
   ]
  },
  {
   "cell_type": "code",
   "execution_count": null,
   "metadata": {
    "id": "CsB6Uih9dToB",
    "outputId": "a2c6a768-0d49-4fa7-c8e0-d3a24055928e"
   },
   "outputs": [
    {
     "data": {
      "text/plain": [
       "-1"
      ]
     },
     "execution_count": 107,
     "metadata": {},
     "output_type": "execute_result"
    }
   ],
   "source": [
    "rev.find(\"z\")"
   ]
  },
  {
   "cell_type": "code",
   "execution_count": null,
   "metadata": {
    "id": "zx-zCN13dToC",
    "outputId": "66a94665-61bc-4938-8859-6fb8ed093777"
   },
   "outputs": [
    {
     "ename": "ValueError",
     "evalue": "substring not found",
     "output_type": "error",
     "traceback": [
      "\u001b[1;31m---------------------------------------------------------------------------\u001b[0m",
      "\u001b[1;31mValueError\u001b[0m                                Traceback (most recent call last)",
      "\u001b[1;32m~\\AppData\\Local\\Temp/ipykernel_6404/3398709959.py\u001b[0m in \u001b[0;36m<module>\u001b[1;34m\u001b[0m\n\u001b[1;32m----> 1\u001b[1;33m \u001b[0mrev\u001b[0m\u001b[1;33m.\u001b[0m\u001b[0mindex\u001b[0m\u001b[1;33m(\u001b[0m\u001b[1;34m\"z\"\u001b[0m\u001b[1;33m)\u001b[0m\u001b[1;33m\u001b[0m\u001b[1;33m\u001b[0m\u001b[0m\n\u001b[0m",
      "\u001b[1;31mValueError\u001b[0m: substring not found"
     ]
    }
   ],
   "source": [
    "rev.index(\"z\")"
   ]
  },
  {
   "cell_type": "code",
   "execution_count": null,
   "metadata": {
    "id": "cejs-MSWdToC"
   },
   "outputs": [],
   "source": []
  },
  {
   "cell_type": "code",
   "execution_count": null,
   "metadata": {
    "id": "BCyvVLQIdToC"
   },
   "outputs": [],
   "source": []
  },
  {
   "cell_type": "code",
   "execution_count": null,
   "metadata": {
    "id": "w_cRAMhJdToC",
    "outputId": "e6f0bb88-f251-43ae-b4ac-00ebd0feddf1"
   },
   "outputs": [
    {
     "data": {
      "text/plain": [
       "15"
      ]
     },
     "execution_count": 102,
     "metadata": {},
     "output_type": "execute_result"
    }
   ],
   "source": [
    "rev.find(\"chicken\")"
   ]
  },
  {
   "cell_type": "code",
   "execution_count": null,
   "metadata": {
    "id": "znnEJcvVdToC",
    "outputId": "440be9c1-c699-4b21-a867-0f2d7b1163f8"
   },
   "outputs": [
    {
     "data": {
      "text/plain": [
       "'chicken'"
      ]
     },
     "execution_count": 104,
     "metadata": {},
     "output_type": "execute_result"
    }
   ],
   "source": [
    "rev[15:22]"
   ]
  },
  {
   "cell_type": "markdown",
   "metadata": {
    "id": "lqSEC0tsdToD"
   },
   "source": [
    "#### Tell the difference between find and index methods"
   ]
  },
  {
   "cell_type": "code",
   "execution_count": null,
   "metadata": {
    "id": "9C65kx5pdToD",
    "outputId": "2f9f574d-34ca-44a3-81b4-9b6f1b79f771"
   },
   "outputs": [
    {
     "name": "stdout",
     "output_type": "stream",
     "text": [
      "Help on built-in function find:\n",
      "\n",
      "find(...) method of builtins.str instance\n",
      "    S.find(sub[, start[, end]]) -> int\n",
      "    \n",
      "    Return the lowest index in S where substring sub is found,\n",
      "    such that sub is contained within S[start:end].  Optional\n",
      "    arguments start and end are interpreted as in slice notation.\n",
      "    \n",
      "    Return -1 on failure.\n",
      "\n"
     ]
    }
   ],
   "source": [
    "help(rev.find)"
   ]
  },
  {
   "cell_type": "code",
   "execution_count": null,
   "metadata": {
    "id": "I-9vyh3hdToD",
    "outputId": "d484677b-af29-49af-d111-7334b06ef1e6"
   },
   "outputs": [
    {
     "name": "stdout",
     "output_type": "stream",
     "text": [
      "Help on built-in function index:\n",
      "\n",
      "index(...) method of builtins.str instance\n",
      "    S.index(sub[, start[, end]]) -> int\n",
      "    \n",
      "    Return the lowest index in S where substring sub is found,\n",
      "    such that sub is contained within S[start:end].  Optional\n",
      "    arguments start and end are interpreted as in slice notation.\n",
      "    \n",
      "    Raises ValueError when the substring is not found.\n",
      "\n"
     ]
    }
   ],
   "source": [
    "help(rev.index)"
   ]
  },
  {
   "cell_type": "markdown",
   "metadata": {
    "id": "RabgGbsGdToD"
   },
   "source": [
    "1) Understand Question  \n",
    "2) break it into small parts  \n",
    "3) combine the parts   "
   ]
  },
  {
   "cell_type": "markdown",
   "metadata": {
    "id": "GAl1_8tfdToE"
   },
   "source": [
    "# isdigit()\n"
   ]
  },
  {
   "cell_type": "code",
   "execution_count": null,
   "metadata": {
    "id": "gXtDirWpdToE"
   },
   "outputs": [],
   "source": [
    "year1=\"1988\""
   ]
  },
  {
   "cell_type": "code",
   "execution_count": null,
   "metadata": {
    "id": "8XXY-Kz2dToE",
    "outputId": "f0bd07b6-3c2f-474b-8087-ea6dbae0028e"
   },
   "outputs": [
    {
     "data": {
      "text/plain": [
       "True"
      ]
     },
     "execution_count": 112,
     "metadata": {},
     "output_type": "execute_result"
    }
   ],
   "source": [
    "year1.isdigit()"
   ]
  },
  {
   "cell_type": "code",
   "execution_count": null,
   "metadata": {
    "id": "00a5WMvpdToE",
    "outputId": "bc7c4c42-0a28-4c8d-de71-c59bc684ed4f"
   },
   "outputs": [
    {
     "data": {
      "text/plain": [
       "False"
      ]
     },
     "execution_count": 113,
     "metadata": {},
     "output_type": "execute_result"
    }
   ],
   "source": [
    "year2=\"1988a\"\n",
    "year2.isdigit()"
   ]
  },
  {
   "cell_type": "markdown",
   "metadata": {
    "id": "wqIcptxOdToE"
   },
   "source": [
    "# replace()\n",
    "- if we want to replace part of a string with a replacement"
   ]
  },
  {
   "cell_type": "code",
   "execution_count": null,
   "metadata": {
    "id": "5ks4wThQdToE"
   },
   "outputs": [],
   "source": [
    "review = \"movie is #good #cool. It's a blockbuster\""
   ]
  },
  {
   "cell_type": "code",
   "execution_count": null,
   "metadata": {
    "id": "G4YF5uk9dToF",
    "outputId": "598d6b98-8b74-4864-923b-7e2e5fb268b0"
   },
   "outputs": [
    {
     "data": {
      "text/plain": [
       "\"movie is  good  cool. It's a blockbuster\""
      ]
     },
     "execution_count": 118,
     "metadata": {},
     "output_type": "execute_result"
    }
   ],
   "source": [
    "review.replace(\"#\",\" \")"
   ]
  },
  {
   "cell_type": "code",
   "execution_count": null,
   "metadata": {
    "id": "rcwxdsYOdToF",
    "outputId": "3e012d9d-4c41-4aaf-baad-2349265da9cb"
   },
   "outputs": [
    {
     "data": {
      "text/plain": [
       "\"movie is good cool. It's a blockbuster\""
      ]
     },
     "execution_count": 119,
     "metadata": {},
     "output_type": "execute_result"
    }
   ],
   "source": [
    "review.replace(\"#\",\"\")"
   ]
  },
  {
   "cell_type": "code",
   "execution_count": null,
   "metadata": {
    "id": "di5JiYY2dToF",
    "outputId": "65849cb3-d341-4fae-93dc-a68820e0f22f"
   },
   "outputs": [
    {
     "data": {
      "text/plain": [
       "\"film is #good #cool. It's a blockbuster\""
      ]
     },
     "execution_count": 120,
     "metadata": {},
     "output_type": "execute_result"
    }
   ],
   "source": [
    "review.replace(\"movie\",\"film\")"
   ]
  },
  {
   "cell_type": "code",
   "execution_count": null,
   "metadata": {
    "id": "7K6lDvsedToG"
   },
   "outputs": [],
   "source": []
  },
  {
   "cell_type": "markdown",
   "metadata": {
    "id": "Ez_DbvD4dToG"
   },
   "source": [
    "# strip()\n",
    "- to remove any leading and trailing white spaces and new line characters"
   ]
  },
  {
   "cell_type": "code",
   "execution_count": null,
   "metadata": {
    "id": "gYI9CIRjdToH"
   },
   "outputs": [],
   "source": [
    "text = \"   Python is cool      \""
   ]
  },
  {
   "cell_type": "code",
   "execution_count": null,
   "metadata": {
    "id": "Gs7ebO6tdToH",
    "outputId": "44bb57d3-d6e3-459f-e378-0115b14b7f37"
   },
   "outputs": [
    {
     "data": {
      "text/plain": [
       "'Python is cool'"
      ]
     },
     "execution_count": 127,
     "metadata": {},
     "output_type": "execute_result"
    }
   ],
   "source": [
    "text.strip()"
   ]
  },
  {
   "cell_type": "code",
   "execution_count": null,
   "metadata": {
    "id": "dOpU5j-4dToH"
   },
   "outputs": [],
   "source": [
    "text1 = \"   Python     is      cool      \""
   ]
  },
  {
   "cell_type": "code",
   "execution_count": null,
   "metadata": {
    "id": "vXGyECH8dToI",
    "outputId": "72e8c53e-c562-4ebf-dc2f-0f1318c82ede"
   },
   "outputs": [
    {
     "data": {
      "text/plain": [
       "'Python     is      cool'"
      ]
     },
     "execution_count": 129,
     "metadata": {},
     "output_type": "execute_result"
    }
   ],
   "source": [
    "text1.strip()"
   ]
  },
  {
   "cell_type": "markdown",
   "metadata": {
    "id": "a6ozYDFfdToI"
   },
   "source": [
    "#### Exercise:  Remove all extra spaces in text1"
   ]
  },
  {
   "cell_type": "code",
   "execution_count": null,
   "metadata": {
    "id": "edJ69I5mdToJ"
   },
   "outputs": [],
   "source": []
  },
  {
   "cell_type": "markdown",
   "metadata": {
    "id": "LAijU4g6dToJ"
   },
   "source": [
    "# split()\n",
    "- splitting a string into sub-strings based on default delimter(space)"
   ]
  },
  {
   "cell_type": "code",
   "execution_count": null,
   "metadata": {
    "id": "pacxiRBkdToJ",
    "outputId": "07a7f548-1faf-4dea-92dc-c30a6531d6bd"
   },
   "outputs": [
    {
     "data": {
      "text/plain": [
       "'This burger of chicken is very tasty'"
      ]
     },
     "execution_count": 130,
     "metadata": {},
     "output_type": "execute_result"
    }
   ],
   "source": [
    "rev"
   ]
  },
  {
   "cell_type": "code",
   "execution_count": null,
   "metadata": {
    "id": "dOkiwW7odToJ"
   },
   "outputs": [],
   "source": [
    "var=\"burger is tasty\""
   ]
  },
  {
   "cell_type": "code",
   "execution_count": null,
   "metadata": {
    "id": "lUB2dLY3dToK",
    "outputId": "21fc3fed-1cbb-4004-83f5-a43d0389a083"
   },
   "outputs": [
    {
     "data": {
      "text/plain": [
       "['burger', 'is', 'tasty']"
      ]
     },
     "execution_count": 131,
     "metadata": {},
     "output_type": "execute_result"
    }
   ],
   "source": [
    "var.split()"
   ]
  },
  {
   "cell_type": "code",
   "execution_count": null,
   "metadata": {
    "id": "tB1lgNtgdToK"
   },
   "outputs": [],
   "source": [
    "tweet =\"#super #great #crazy\""
   ]
  },
  {
   "cell_type": "code",
   "execution_count": null,
   "metadata": {
    "id": "iEbquKjtdToK",
    "outputId": "4ae7817a-0b9b-4b8c-dc93-8eaf838accd9"
   },
   "outputs": [
    {
     "data": {
      "text/plain": [
       "['#super', '#great', '#crazy']"
      ]
     },
     "execution_count": 134,
     "metadata": {},
     "output_type": "execute_result"
    }
   ],
   "source": [
    "tweet.split()"
   ]
  },
  {
   "cell_type": "code",
   "execution_count": null,
   "metadata": {
    "id": "hjmdfD7WdToL"
   },
   "outputs": [],
   "source": [
    "tweet1 =\"#super#great#crazy\""
   ]
  },
  {
   "cell_type": "code",
   "execution_count": null,
   "metadata": {
    "id": "Gq3j-WNPdToL",
    "outputId": "0c4237d9-fd5b-4d9f-a13d-69de0e02666b"
   },
   "outputs": [
    {
     "data": {
      "text/plain": [
       "['#super#great#crazy']"
      ]
     },
     "execution_count": 137,
     "metadata": {},
     "output_type": "execute_result"
    }
   ],
   "source": [
    "tweet1.split()"
   ]
  },
  {
   "cell_type": "code",
   "execution_count": null,
   "metadata": {
    "id": "Lud5cDwldToM",
    "outputId": "b8034654-7456-48d7-85d1-abfdccd3e29e"
   },
   "outputs": [
    {
     "data": {
      "text/plain": [
       "['', 'super', 'great', 'crazy']"
      ]
     },
     "execution_count": 138,
     "metadata": {},
     "output_type": "execute_result"
    }
   ],
   "source": [
    "tweet1.split(\"#\")"
   ]
  },
  {
   "cell_type": "code",
   "execution_count": null,
   "metadata": {
    "id": "X3uvWpy3dToM"
   },
   "outputs": [],
   "source": []
  },
  {
   "cell_type": "markdown",
   "metadata": {
    "id": "b4o_2ZTLdToN"
   },
   "source": [
    "- splitting a string into sub-strings based on given symbols or characters"
   ]
  },
  {
   "cell_type": "code",
   "execution_count": null,
   "metadata": {
    "id": "y31RFKm7dToN"
   },
   "outputs": [],
   "source": []
  },
  {
   "cell_type": "markdown",
   "metadata": {
    "id": "y_acBk5qdToO"
   },
   "source": [
    "# Exercise"
   ]
  },
  {
   "cell_type": "code",
   "execution_count": null,
   "metadata": {
    "id": "1UFG5DXedToP"
   },
   "outputs": [],
   "source": [
    "fruits1= \"Apples Oranges Mangoes Grapes\"\n",
    "fruits= \"Apples,Oranges,Mangoes,Grapes\""
   ]
  },
  {
   "cell_type": "code",
   "execution_count": null,
   "metadata": {
    "id": "FqnkY5lodToQ"
   },
   "outputs": [],
   "source": []
  },
  {
   "cell_type": "markdown",
   "metadata": {
    "id": "azrRmPIYdToQ"
   },
   "source": [
    "# format()\n",
    "- The format() method is used to make parts of a string dynamic"
   ]
  },
  {
   "cell_type": "code",
   "execution_count": null,
   "metadata": {
    "id": "FaTSQ6OBdToV"
   },
   "outputs": [],
   "source": [
    "date = 'Today is Wednesday and it is cloudy'"
   ]
  },
  {
   "cell_type": "code",
   "execution_count": null,
   "metadata": {
    "id": "ACCEtLo0dToV"
   },
   "outputs": [],
   "source": [
    "day=\"Thursday\"\n",
    "weather=\"sunny\""
   ]
  },
  {
   "cell_type": "code",
   "execution_count": null,
   "metadata": {
    "id": "XVaaGzRhdToV"
   },
   "outputs": [],
   "source": [
    "print(\"Today is Wednesday and it is cloudy\")"
   ]
  },
  {
   "cell_type": "code",
   "execution_count": null,
   "metadata": {
    "id": "PxoPqJvrdToV"
   },
   "outputs": [],
   "source": [
    "# passing the values to the placeholders using the default order\n",
    "print('Today is {} and it is {}'.format('Wednesday','cloudy'))"
   ]
  },
  {
   "cell_type": "code",
   "execution_count": null,
   "metadata": {
    "id": "2Mri8YQRdToV"
   },
   "outputs": [],
   "source": []
  },
  {
   "cell_type": "markdown",
   "metadata": {
    "id": "lFek-F4MdToW"
   },
   "source": [
    "# User input / Dynamical entry\n",
    "> ### input()"
   ]
  },
  {
   "cell_type": "code",
   "execution_count": null,
   "metadata": {
    "id": "V_ZEb4TrdToW",
    "outputId": "971a7a59-2f96-4bba-fd74-5da9bc2f6a5e"
   },
   "outputs": [
    {
     "name": "stdout",
     "output_type": "stream",
     "text": [
      "Enter a number: 200\n"
     ]
    }
   ],
   "source": [
    "num = input('Enter a number: ')"
   ]
  },
  {
   "cell_type": "code",
   "execution_count": null,
   "metadata": {
    "id": "wo94lSm1dToW"
   },
   "outputs": [],
   "source": []
  },
  {
   "cell_type": "markdown",
   "metadata": {
    "id": "np_0g-HfdToX"
   },
   "source": [
    "# Type-casting\n",
    "- Type casting is the process of changing a compatible data-type to the other. \n",
    "- Like, every datatype can be converted to a string but the reverse is not true. \n",
    "- Type casting is achieved by passing the datatype to be converted as an argument to the constructer of the data type we want it to be converted to"
   ]
  },
  {
   "cell_type": "code",
   "execution_count": null,
   "metadata": {
    "id": "MBVNQavddToY"
   },
   "outputs": [],
   "source": [
    "a = 10\n",
    "b = 3.14\n",
    "c = '78'\n",
    "d = 'Hello'"
   ]
  },
  {
   "cell_type": "code",
   "execution_count": null,
   "metadata": {
    "id": "iQqEmFP_dToY"
   },
   "outputs": [],
   "source": []
  }
 ],
 "metadata": {
  "colab": {
   "provenance": []
  },
  "kernelspec": {
   "display_name": "Python 3 (ipykernel)",
   "language": "python",
   "name": "python3"
  },
  "language_info": {
   "codemirror_mode": {
    "name": "ipython",
    "version": 3
   },
   "file_extension": ".py",
   "mimetype": "text/x-python",
   "name": "python",
   "nbconvert_exporter": "python",
   "pygments_lexer": "ipython3",
   "version": "3.10.9"
  }
 },
 "nbformat": 4,
 "nbformat_minor": 1
}
